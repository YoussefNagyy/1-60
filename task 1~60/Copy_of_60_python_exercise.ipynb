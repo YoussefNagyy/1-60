{
  "cells": [
    {
      "cell_type": "markdown",
      "id": "759d04ba",
      "metadata": {
        "id": "759d04ba"
      },
      "source": [
        "1-Write a Python program to calculate the length of a string using 2 ways"
      ]
    },
    {
      "cell_type": "code",
      "execution_count": null,
      "id": "7a2dfa32",
      "metadata": {
        "id": "7a2dfa32",
        "colab": {
          "base_uri": "https://localhost:8080/"
        },
        "outputId": "9ce7aa74-012c-4c4a-b6f2-cb1055a434c5"
      },
      "outputs": [
        {
          "output_type": "stream",
          "name": "stdout",
          "text": [
            "5\n",
            "5\n"
          ]
        }
      ],
      "source": [
        "str=\"ahmed\"\n",
        "print(len(str))\n",
        "\n",
        "#method 2:\n",
        "count=0\n",
        "for i in str:\n",
        "    count+=1\n",
        "print(count)"
      ]
    },
    {
      "cell_type": "markdown",
      "id": "d7cc9da7",
      "metadata": {
        "id": "d7cc9da7"
      },
      "source": [
        "2-Write a Python program to get a string made of the first 2 and last 2 characters of a given string. If the string length is less than 2, return the empty string instead (\"##Sample String : 'w3resource' <br>\n",
        "Expected Result : 'w3ce' <br>\n",
        "##Sample String : 'w3'<br>\n",
        "Expected Result : 'w3w3'<br>\n",
        "##Sample String : ' w'<br>\n",
        "Expected Result : Empty String)"
      ]
    },
    {
      "cell_type": "code",
      "execution_count": null,
      "id": "dafa9dd8",
      "metadata": {
        "id": "dafa9dd8",
        "colab": {
          "base_uri": "https://localhost:8080/"
        },
        "outputId": "77a8c901-1509-4093-a719-3cd067c4fbf0"
      },
      "outputs": [
        {
          "output_type": "stream",
          "name": "stdout",
          "text": [
            "Enter your string: w\n",
            "\n"
          ]
        }
      ],
      "source": [
        "# prompt: Write a Python program to get a string made of the first 2 and last 2 characters of a given string. If the string length is less than 2, return the empty string instead (make me enter input\n",
        "\n",
        "def string_both_ends(str):\n",
        " if len(str) < 2:\n",
        "    return ''\n",
        "    return str[0:2] + str[-2:]\n",
        " else:\n",
        "     print(\"Empty string\")\n",
        "\n",
        "string = input(\"Enter your string: \")\n",
        "print(string_both_ends(string))\n",
        "\n"
      ]
    },
    {
      "cell_type": "markdown",
      "id": "1534f956",
      "metadata": {
        "id": "1534f956"
      },
      "source": [
        "3-Write a Python program to add 'ing' at the end of a given string (length should be at least 3). If the given string already ends with 'ing', add 'ly' instead. If the string length of the given string is less than 3, leave it unchanged. (Sample String : 'abc'\n",
        "Expected Result : 'abcing')"
      ]
    },
    {
      "cell_type": "code",
      "execution_count": null,
      "id": "7ff8cec4",
      "metadata": {
        "id": "7ff8cec4",
        "colab": {
          "base_uri": "https://localhost:8080/"
        },
        "outputId": "f59f39cf-67ab-4de9-de5a-59d7a7b30f05"
      },
      "outputs": [
        {
          "output_type": "stream",
          "name": "stdout",
          "text": [
            "smoking\n"
          ]
        }
      ],
      "source": [
        "def add_string(str1):\n",
        "  length = len(str1)\n",
        "\n",
        "  if length > 2:\n",
        "    if str1[-3:] == 'ing':\n",
        "      str1 += 'ly'\n",
        "    elif str1[-1:] =='e':\n",
        "        str1 = str1[:-1]\n",
        "        str1 += 'ing'\n",
        "    else:\n",
        "      str1 += 'ing'\n",
        "\n",
        "  return str1\n",
        "print(add_string('smoke'))"
      ]
    },
    {
      "cell_type": "markdown",
      "id": "1c0a6627",
      "metadata": {
        "id": "1c0a6627"
      },
      "source": [
        "4-Write a Python function that takes a list of words and return the longest word and the length of the longest one\n",
        "(Longest word: Exercises\n",
        "Length of the longest word: 9)"
      ]
    },
    {
      "cell_type": "code",
      "execution_count": null,
      "id": "397341d9",
      "metadata": {
        "id": "397341d9",
        "colab": {
          "base_uri": "https://localhost:8080/"
        },
        "outputId": "2456a283-111f-4ba3-cc4f-f767ff2831be"
      },
      "outputs": [
        {
          "output_type": "stream",
          "name": "stdout",
          "text": [
            "Longest word: mohamed\n",
            "Length of the longest word: 7\n"
          ]
        }
      ],
      "source": [
        "l=[\"ahmed\",\"mohamed\",\"mostafa\"]\n",
        "longest_word = max(l, key=len)\n",
        "print(\"Longest word:\", longest_word)\n",
        "print(\"Length of the longest word:\", len(longest_word))"
      ]
    },
    {
      "cell_type": "markdown",
      "id": "53a03a6a",
      "metadata": {
        "id": "53a03a6a"
      },
      "source": [
        "5-Write a Python program to change a given string to a newly string where the first and last chars have been exchanged using 2 ways (Sample String:abca  Expected Result:ebce)"
      ]
    },
    {
      "cell_type": "code",
      "execution_count": null,
      "id": "285788b4",
      "metadata": {
        "id": "285788b4",
        "colab": {
          "base_uri": "https://localhost:8080/"
        },
        "outputId": "e1bd4b72-7641-4842-ab65-dcd3ee39b42e"
      },
      "outputs": [
        {
          "output_type": "stream",
          "name": "stdout",
          "text": [
            "Method 1:  abca\n",
            "Method 2:  abca\n"
          ]
        }
      ],
      "source": [
        "# Method 1\n",
        "def change_sring(str1):\n",
        "  return str1[-1:] + str1[1:-1] + str1[:1]\n",
        "\n",
        "# Method 2\n",
        "def change_string_two(str1):\n",
        "  new_string = str1[-1]\n",
        "  for i in range(1, len(str1)-1):\n",
        "    new_string += str1[i]\n",
        "  new_string += str1[0]\n",
        "  return new_string\n",
        "\n",
        "string = \"abca\"\n",
        "print(\"Method 1: \", change_sring(string))\n",
        "print(\"Method 2: \", change_string_two(string))\n"
      ]
    },
    {
      "cell_type": "markdown",
      "id": "25f89808",
      "metadata": {
        "id": "25f89808"
      },
      "source": [
        "6-Write a Python program to remove characters that have odd index values in a given string (Sample String:abca Expected Result:ac)"
      ]
    },
    {
      "cell_type": "code",
      "execution_count": null,
      "id": "05959bd7",
      "metadata": {
        "id": "05959bd7",
        "colab": {
          "base_uri": "https://localhost:8080/"
        },
        "outputId": "9f37ccdb-0dba-4c90-ee43-9e3e853268f4"
      },
      "outputs": [
        {
          "output_type": "stream",
          "name": "stdout",
          "text": [
            "yusf\n"
          ]
        }
      ],
      "source": [
        "str1=\"youssef\"\n",
        "new_str=\"\"\n",
        "for i in range(len(str1)):\n",
        "    if i%2==0:\n",
        "        new_str+=str1[i]\n",
        "print(new_str)"
      ]
    },
    {
      "cell_type": "markdown",
      "id": "eb16e898",
      "metadata": {
        "id": "eb16e898"
      },
      "source": [
        "7-Write a Python program to count the occurrences of each word in a given sentence (Sample String:amr and ahmed are frindes but amr is the tallest Expected Result:2)"
      ]
    },
    {
      "cell_type": "code",
      "execution_count": null,
      "id": "01ce6cf5",
      "metadata": {
        "id": "01ce6cf5",
        "colab": {
          "base_uri": "https://localhost:8080/"
        },
        "outputId": "60609306-397b-4a10-d203-46a4fa031776"
      },
      "outputs": [
        {
          "output_type": "stream",
          "name": "stdout",
          "text": [
            "2\n"
          ]
        }
      ],
      "source": [
        "str1=\"amr and ahmed are frindes but amr is the tallest\"\n",
        "count=0\n",
        "for i in str1.split():\n",
        "    if i==\"amr\":\n",
        "        count+=1\n",
        "print(count)"
      ]
    },
    {
      "cell_type": "markdown",
      "id": "4e8125f1",
      "metadata": {
        "id": "4e8125f1"
      },
      "source": [
        "8-Write a Python script that takes input from the user and displays that input back in upper and lower cases"
      ]
    },
    {
      "cell_type": "code",
      "execution_count": null,
      "id": "66c8f778",
      "metadata": {
        "id": "66c8f778",
        "colab": {
          "base_uri": "https://localhost:8080/"
        },
        "outputId": "11af8cd9-4a5c-4a5b-cb86-e11df9712af1"
      },
      "outputs": [
        {
          "output_type": "stream",
          "name": "stdout",
          "text": [
            "Enter your string: youssef\n",
            "YOUSSEF\n",
            "youssef\n"
          ]
        }
      ],
      "source": [
        "str1=input(\"Enter your string: \")\n",
        "print(str1.upper())\n",
        "print(str1.lower())"
      ]
    },
    {
      "cell_type": "markdown",
      "id": "fcd68aa1",
      "metadata": {
        "id": "fcd68aa1"
      },
      "source": [
        "9-Write a Python function to reverse a string if its length is a multiple of 4"
      ]
    },
    {
      "cell_type": "code",
      "execution_count": null,
      "id": "0671a931",
      "metadata": {
        "id": "0671a931",
        "colab": {
          "base_uri": "https://localhost:8080/"
        },
        "outputId": "1aaae48d-d6f6-4fc1-faf5-3858690363ab"
      },
      "outputs": [
        {
          "output_type": "stream",
          "name": "stdout",
          "text": [
            "Enter your string: amr\n",
            "not multiple of 4\n",
            "Enter your string: jjjj\n",
            "jjjj\n"
          ]
        }
      ],
      "source": [
        "while True:\n",
        "  str1=input(\"Enter your string: \")\n",
        "\n",
        "  if len(str1)%4==0:\n",
        "      print(str1[::-1])\n",
        "      break\n",
        "  else:\n",
        "    print(\"not multiple of 4\")\n"
      ]
    },
    {
      "cell_type": "markdown",
      "id": "b577c68d",
      "metadata": {
        "id": "b577c68d"
      },
      "source": [
        "10- Write a Python program to remove a newline in Python"
      ]
    },
    {
      "cell_type": "code",
      "execution_count": null,
      "id": "e0c6525a",
      "metadata": {
        "id": "e0c6525a",
        "colab": {
          "base_uri": "https://localhost:8080/"
        },
        "outputId": "ff759150-b6b3-459f-f242-77181558e051"
      },
      "outputs": [
        {
          "output_type": "stream",
          "name": "stdout",
          "text": [
            "ahmed\n",
            "mohamed\n",
            "ahmedmohamed\n"
          ]
        }
      ],
      "source": [
        "str1=\"ahmed\\nmohamed\"\n",
        "print(str1)\n",
        "print(str1.replace(\"\\n\",\"\"))"
      ]
    },
    {
      "cell_type": "markdown",
      "id": "80db5ae0",
      "metadata": {
        "id": "80db5ae0"
      },
      "source": [
        "11-Write a Python program to check whether a string starts with specified characters"
      ]
    },
    {
      "cell_type": "code",
      "execution_count": null,
      "id": "0cc4e03e",
      "metadata": {
        "id": "0cc4e03e",
        "colab": {
          "base_uri": "https://localhost:8080/"
        },
        "outputId": "5da07acd-31fe-412c-c25c-45cc06652139"
      },
      "outputs": [
        {
          "output_type": "stream",
          "name": "stdout",
          "text": [
            "Enter your string: ahmed\n",
            "yes\n"
          ]
        }
      ],
      "source": [
        "str1=input(\"Enter your string: \")\n",
        "if str1.startswith(\"a\"):\n",
        "    print(\"yes\")\n",
        "else:\n",
        "    print(\"no\")"
      ]
    },
    {
      "cell_type": "markdown",
      "id": "593a68db",
      "metadata": {
        "id": "593a68db"
      },
      "source": [
        "12- Write a Python program to add prefix text to all of the lines in a string\n",
        "\n",
        "1.   List item\n",
        "2.   List item\n",
        "\n"
      ]
    },
    {
      "cell_type": "code",
      "execution_count": null,
      "id": "d2e46ada",
      "metadata": {
        "id": "d2e46ada"
      },
      "outputs": [],
      "source": [
        "sample_text ='''List item\n",
        "List item'''\n",
        "split_text = sample_text.splitlines()\n",
        "for line in split_text:\n",
        "  print(\"prefix \" + line)\n"
      ]
    },
    {
      "cell_type": "markdown",
      "id": "86fa1543",
      "metadata": {
        "id": "86fa1543"
      },
      "source": [
        "13-Write a Python program to print the following numbers up to 2 decimal places"
      ]
    },
    {
      "cell_type": "code",
      "execution_count": 2,
      "id": "cd4a9d89",
      "metadata": {
        "id": "cd4a9d89",
        "colab": {
          "base_uri": "https://localhost:8080/"
        },
        "outputId": "402b8648-afdd-4611-ceee-6c76ec6ecd19"
      },
      "outputs": [
        {
          "output_type": "stream",
          "name": "stdout",
          "text": [
            "Enter your number: 3.14788\n",
            "3.15\n"
          ]
        }
      ],
      "source": [
        "s =input(\"Enter your number: \")\n",
        "s=float(s)\n",
        "print(round(s, 2))"
      ]
    },
    {
      "cell_type": "markdown",
      "id": "452c0ab0",
      "metadata": {
        "id": "452c0ab0"
      },
      "source": [
        "14-Write a Python program to print the following numbers up to 2 decimal places\n",
        "\n",
        "---\n",
        "\n",
        "with a sign"
      ]
    },
    {
      "cell_type": "code",
      "execution_count": 3,
      "id": "73e82479",
      "metadata": {
        "id": "73e82479",
        "colab": {
          "base_uri": "https://localhost:8080/"
        },
        "outputId": "dbb6d0d3-2742-465e-e594-adc794b0326e"
      },
      "outputs": [
        {
          "output_type": "stream",
          "name": "stdout",
          "text": [
            "+3.14\n",
            "-13.00\n"
          ]
        }
      ],
      "source": [
        "x = 3.1415926\n",
        "y = -12.9999\n",
        "print(\"{:+.2f}\".format(x))\n",
        "print(\"{:+.2f}\".format(y))\n"
      ]
    },
    {
      "cell_type": "markdown",
      "id": "32b1811a",
      "metadata": {
        "id": "32b1811a"
      },
      "source": [
        "15-Write a Python program to display a number with a comma separator"
      ]
    },
    {
      "cell_type": "code",
      "execution_count": 4,
      "id": "f30fc0b6",
      "metadata": {
        "id": "f30fc0b6",
        "colab": {
          "base_uri": "https://localhost:8080/"
        },
        "outputId": "a40f2bb0-5908-4143-fd09-b18eab2f7663"
      },
      "outputs": [
        {
          "output_type": "stream",
          "name": "stdout",
          "text": [
            "Enter your number: 312341\n",
            "312,341\n"
          ]
        }
      ],
      "source": [
        "s=input(\"Enter your number: \")\n",
        "s=int(s)\n",
        "print(format(s, \",\"))"
      ]
    },
    {
      "cell_type": "markdown",
      "id": "0477f487",
      "metadata": {
        "id": "0477f487"
      },
      "source": [
        "16-Write a Python program to reverse a string using 2 ways"
      ]
    },
    {
      "cell_type": "code",
      "execution_count": 5,
      "id": "aa8beec8",
      "metadata": {
        "id": "aa8beec8",
        "colab": {
          "base_uri": "https://localhost:8080/"
        },
        "outputId": "a58b85fa-0d4e-462a-b188-dca1749b1c59"
      },
      "outputs": [
        {
          "output_type": "stream",
          "name": "stdout",
          "text": [
            "Enter your string: youssef\n",
            "fessuoy\n",
            "fessuoy\n"
          ]
        }
      ],
      "source": [
        "str1=input(\"Enter your string: \")\n",
        "print(str1[::-1])\n",
        "#method2\n",
        "str2=\"\"\n",
        "for i in str1:\n",
        "    str2=i+str2\n",
        "print(str2)"
      ]
    },
    {
      "cell_type": "markdown",
      "id": "5afc3166",
      "metadata": {
        "id": "5afc3166"
      },
      "source": [
        " 17-Write a Python program to count repeated characters in a string (hint:use dictionary)"
      ]
    },
    {
      "cell_type": "code",
      "execution_count": 8,
      "id": "515a469c",
      "metadata": {
        "id": "515a469c",
        "colab": {
          "base_uri": "https://localhost:8080/"
        },
        "outputId": "dc7d576c-618e-4b9e-ff15-90dd11048954"
      },
      "outputs": [
        {
          "output_type": "stream",
          "name": "stdout",
          "text": [
            "Enter your string: youssef\n",
            "{'y': 1, 'o': 1, 'u': 1, 's': 2, 'e': 1, 'f': 1}\n"
          ]
        }
      ],
      "source": [
        "str1=input(\"Enter your string: \")\n",
        "d={}\n",
        "for i in str1:\n",
        "    if i in d:\n",
        "        d[i]+=1\n",
        "    else:\n",
        "        d[i]=1\n",
        "\n",
        "print(d)"
      ]
    },
    {
      "cell_type": "markdown",
      "id": "ae14e4e5",
      "metadata": {
        "id": "ae14e4e5"
      },
      "source": [
        "18-Write a Python program to find the first non-repeating character in a given string"
      ]
    },
    {
      "cell_type": "code",
      "execution_count": 9,
      "id": "d73778e5",
      "metadata": {
        "id": "d73778e5",
        "colab": {
          "base_uri": "https://localhost:8080/"
        },
        "outputId": "7a0000e7-8abc-4433-fafb-174121a459d6"
      },
      "outputs": [
        {
          "output_type": "stream",
          "name": "stdout",
          "text": [
            "Enter your string: youssef\n",
            "y\n"
          ]
        }
      ],
      "source": [
        "str1=input(\"Enter your string: \")\n",
        "for i in str1:\n",
        "    if str1.count(i)==1:\n",
        "        print(i)\n",
        "        break"
      ]
    },
    {
      "cell_type": "markdown",
      "id": "3adf5669",
      "metadata": {
        "id": "3adf5669"
      },
      "source": [
        "19-Write a Python program to remove spaces from a given string"
      ]
    },
    {
      "cell_type": "code",
      "execution_count": 10,
      "id": "b4f22602",
      "metadata": {
        "id": "b4f22602",
        "colab": {
          "base_uri": "https://localhost:8080/"
        },
        "outputId": "5b155154-453f-40c1-9b4d-f06669e97ca6"
      },
      "outputs": [
        {
          "output_type": "stream",
          "name": "stdout",
          "text": [
            "Enter your string: y 2 j\n",
            "y2j\n"
          ]
        }
      ],
      "source": [
        "str1=input(\"Enter your string: \")\n",
        "print(str1.replace(\" \",\"\"))"
      ]
    },
    {
      "cell_type": "markdown",
      "id": "734de60c",
      "metadata": {
        "id": "734de60c"
      },
      "source": [
        "20-Write a Python program to count the number of non-empty substrings of a given string"
      ]
    },
    {
      "cell_type": "code",
      "execution_count": null,
      "id": "ef3f2274",
      "metadata": {
        "id": "ef3f2274"
      },
      "outputs": [],
      "source": [
        "str1=input(\"Enter your string: \")\n",
        "count=0\n",
        "for i in range(len(str1)):\n",
        "    for j in range(i,len(str1)):\n",
        "        if str1[i:j+1]!=\"\":\n",
        "            count+=1"
      ]
    },
    {
      "cell_type": "markdown",
      "id": "509998e2",
      "metadata": {
        "id": "509998e2"
      },
      "source": [
        "21-write a Python program to swap first and last element of any list."
      ]
    },
    {
      "cell_type": "code",
      "execution_count": 12,
      "id": "68692d7f",
      "metadata": {
        "id": "68692d7f",
        "colab": {
          "base_uri": "https://localhost:8080/",
          "height": 211
        },
        "outputId": "5e8a6115-2013-4c56-8007-32c81b0b8b45"
      },
      "outputs": [
        {
          "output_type": "error",
          "ename": "TypeError",
          "evalue": "'int' object is not subscriptable",
          "traceback": [
            "\u001b[0;31m---------------------------------------------------------------------------\u001b[0m",
            "\u001b[0;31mTypeError\u001b[0m                                 Traceback (most recent call last)",
            "\u001b[0;32m<ipython-input-12-5cd9d74fd474>\u001b[0m in \u001b[0;36m<cell line: 3>\u001b[0;34m()\u001b[0m\n\u001b[1;32m      1\u001b[0m \u001b[0ml\u001b[0m\u001b[0;34m=\u001b[0m\u001b[0;34m[\u001b[0m\u001b[0;36m1\u001b[0m\u001b[0;34m,\u001b[0m\u001b[0;36m2\u001b[0m\u001b[0;34m,\u001b[0m\u001b[0;36m3\u001b[0m\u001b[0;34m,\u001b[0m\u001b[0;36m4\u001b[0m\u001b[0;34m,\u001b[0m\u001b[0;36m5\u001b[0m\u001b[0;34m]\u001b[0m\u001b[0;34m\u001b[0m\u001b[0;34m\u001b[0m\u001b[0m\n\u001b[1;32m      2\u001b[0m \u001b[0ml\u001b[0m\u001b[0;34m=\u001b[0m\u001b[0mlen\u001b[0m\u001b[0;34m(\u001b[0m\u001b[0ml\u001b[0m\u001b[0;34m)\u001b[0m\u001b[0;34m\u001b[0m\u001b[0;34m\u001b[0m\u001b[0m\n\u001b[0;32m----> 3\u001b[0;31m \u001b[0mtemp\u001b[0m\u001b[0;34m=\u001b[0m\u001b[0ml\u001b[0m\u001b[0;34m[\u001b[0m\u001b[0;36m0\u001b[0m\u001b[0;34m]\u001b[0m\u001b[0;34m\u001b[0m\u001b[0;34m\u001b[0m\u001b[0m\n\u001b[0m\u001b[1;32m      4\u001b[0m \u001b[0ml\u001b[0m\u001b[0;34m[\u001b[0m\u001b[0;36m0\u001b[0m\u001b[0;34m]\u001b[0m\u001b[0;34m=\u001b[0m\u001b[0ml\u001b[0m\u001b[0;34m[\u001b[0m\u001b[0ml\u001b[0m\u001b[0;34m-\u001b[0m\u001b[0;36m1\u001b[0m\u001b[0;34m]\u001b[0m\u001b[0;34m\u001b[0m\u001b[0;34m\u001b[0m\u001b[0m\n\u001b[1;32m      5\u001b[0m \u001b[0ml\u001b[0m\u001b[0;34m[\u001b[0m\u001b[0ml\u001b[0m\u001b[0;34m-\u001b[0m\u001b[0;36m1\u001b[0m\u001b[0;34m]\u001b[0m\u001b[0;34m=\u001b[0m\u001b[0mtemp\u001b[0m\u001b[0;34m\u001b[0m\u001b[0;34m\u001b[0m\u001b[0m\n",
            "\u001b[0;31mTypeError\u001b[0m: 'int' object is not subscriptable"
          ]
        }
      ],
      "source": [
        "l=[1,2,3,4,5]\n",
        "l=len(l)\n",
        "temp=l[0]\n",
        "l[0]=l[l-1]\n",
        "l[l-1]=temp\n",
        "print(l)"
      ]
    },
    {
      "cell_type": "markdown",
      "id": "959e0837",
      "metadata": {
        "id": "959e0837"
      },
      "source": [
        "22-Given a list in Python and provided the positions of the elements,\n",
        "<br>write a program to swap the two elements in the list.<br>\n",
        "(Input : List = [23, 65, 19, 90], pos1 = 1, pos2 = 3 <br>\n",
        "Output : [19, 65, 23, 90])"
      ]
    },
    {
      "cell_type": "code",
      "execution_count": 17,
      "id": "225d8c6d",
      "metadata": {
        "id": "225d8c6d",
        "colab": {
          "base_uri": "https://localhost:8080/"
        },
        "outputId": "737e88bf-3d86-4cae-8761-b18a0b90d3c6"
      },
      "outputs": [
        {
          "output_type": "stream",
          "name": "stdout",
          "text": [
            "[23, 65, 19, 90]\n"
          ]
        }
      ],
      "source": [
        "lis=[23, 65, 19, 90]\n",
        "pos1=lis[1]\n",
        "pos2=lis[3]\n",
        "temp=pos1\n",
        "pos1=pos2\n",
        "pos2=temp\n",
        "print(lis)"
      ]
    },
    {
      "cell_type": "markdown",
      "id": "66fc6682",
      "metadata": {
        "id": "66fc6682"
      },
      "source": [
        "23- search for the all ways to know the length of the list"
      ]
    },
    {
      "cell_type": "code",
      "execution_count": 18,
      "id": "0ce2ab11-e694-4ef4-886e-781f5c6857d1",
      "metadata": {
        "id": "0ce2ab11-e694-4ef4-886e-781f5c6857d1",
        "colab": {
          "base_uri": "https://localhost:8080/"
        },
        "outputId": "3e046ef9-8980-4342-9d09-b720e27d5d2f"
      },
      "outputs": [
        {
          "output_type": "stream",
          "name": "stdout",
          "text": [
            "Length of the list using len(): 5\n",
            "Length of the list using a loop: 5\n"
          ]
        }
      ],
      "source": [
        "# Using the len() function\n",
        "my_list = [1, 2, 3, 4, 5]\n",
        "length = len(my_list)\n",
        "print(\"Length of the list using len():\", length)\n",
        "\n",
        "# Using a loop to iterate and count\n",
        "length = 0\n",
        "for _ in my_list:\n",
        "  length += 1\n",
        "print(\"Length of the list using a loop:\", length)\n"
      ]
    },
    {
      "cell_type": "markdown",
      "id": "635e76c5-7b68-4e02-972d-7d9eae99b598",
      "metadata": {
        "id": "635e76c5-7b68-4e02-972d-7d9eae99b598"
      },
      "source": [
        "24-write a Python code to find the Maximum number of list of numbers."
      ]
    },
    {
      "cell_type": "code",
      "execution_count": null,
      "id": "15f342de",
      "metadata": {
        "id": "15f342de"
      },
      "outputs": [],
      "source": [
        "my_list = [10, 5, 20, 8, 15]\n",
        "maximum = max(my_list)\n",
        "print(\"Maximum number in the list:\", maximum)\n"
      ]
    },
    {
      "cell_type": "markdown",
      "id": "af36b71c-3de0-42e0-b49a-fc06cfc62068",
      "metadata": {
        "id": "af36b71c-3de0-42e0-b49a-fc06cfc62068"
      },
      "source": [
        "25-write a Python code to find the Minimum number of list of numbers."
      ]
    },
    {
      "cell_type": "code",
      "execution_count": 19,
      "id": "21f8cbd6",
      "metadata": {
        "id": "21f8cbd6",
        "colab": {
          "base_uri": "https://localhost:8080/"
        },
        "outputId": "5b197ea5-f302-4630-a13e-281c01dd7d51"
      },
      "outputs": [
        {
          "output_type": "stream",
          "name": "stdout",
          "text": [
            "Maximum number in the list: 5\n"
          ]
        }
      ],
      "source": [
        "my_list = [10, 5, 20, 8, 15]\n",
        "minimum = min(my_list)\n",
        "print(\"Maximum number in the list:\", minimum)"
      ]
    },
    {
      "cell_type": "markdown",
      "id": "96822d96",
      "metadata": {
        "id": "96822d96"
      },
      "source": [
        "**26-search for if an elem is existing in list"
      ]
    },
    {
      "cell_type": "code",
      "execution_count": 20,
      "id": "51ca5c9a",
      "metadata": {
        "id": "51ca5c9a",
        "colab": {
          "base_uri": "https://localhost:8080/"
        },
        "outputId": "fefe31d4-d4dc-464c-9c9a-f9fd3b20c6a2"
      },
      "outputs": [
        {
          "output_type": "stream",
          "name": "stdout",
          "text": [
            "no\n"
          ]
        }
      ],
      "source": [
        "list1=[1,2,3,4,5]\n",
        "if 3 in lis:\n",
        "    print(\"yes\")\n",
        "else:\n",
        "    print(\"no\")"
      ]
    },
    {
      "cell_type": "markdown",
      "id": "d9557da7",
      "metadata": {
        "id": "d9557da7"
      },
      "source": [
        "**27- clear python list using different ways"
      ]
    },
    {
      "cell_type": "code",
      "execution_count": null,
      "id": "b69858a3",
      "metadata": {
        "id": "b69858a3"
      },
      "outputs": [],
      "source": [
        "list1=[1,2,3,4,5]\n",
        "list1.clear()\n",
        "print(list1)"
      ]
    },
    {
      "cell_type": "markdown",
      "id": "52160e88",
      "metadata": {
        "id": "52160e88"
      },
      "source": [
        "**28-remove duplicated elements from a list"
      ]
    },
    {
      "cell_type": "code",
      "execution_count": 21,
      "id": "5e362228",
      "metadata": {
        "id": "5e362228",
        "colab": {
          "base_uri": "https://localhost:8080/"
        },
        "outputId": "7859bf92-8334-46a2-d717-9e2c2d6d5870"
      },
      "outputs": [
        {
          "output_type": "stream",
          "name": "stdout",
          "text": [
            "[1, 2, 3, 4, 5]\n"
          ]
        }
      ],
      "source": [
        "list1=[1,2,3,4,5,1,2,3,4,5]\n",
        "list2=[]\n",
        "for i in list1:\n",
        "    if i not in list2:\n",
        "        list2.append(i)\n",
        "print(list2)"
      ]
    },
    {
      "cell_type": "markdown",
      "id": "282337f7",
      "metadata": {
        "id": "282337f7"
      },
      "source": [
        "**29-Given list values and keys list, convert these values to key value pairs in form of list of dictionaries.<br>\n",
        "(Input : test_list = [“Gfg”, 3, “is”, 8], key_list = [“name”, “id”]<br>\n",
        "Output : [{‘name’: ‘Gfg’, ‘id’: 3}, {‘name’: ‘is’, ‘id’: 8}])"
      ]
    },
    {
      "cell_type": "code",
      "execution_count": 23,
      "id": "4d4e2d28",
      "metadata": {
        "id": "4d4e2d28",
        "colab": {
          "base_uri": "https://localhost:8080/"
        },
        "outputId": "d28669b3-2ab6-4042-fa11-8c535cd5acee"
      },
      "outputs": [
        {
          "output_type": "stream",
          "name": "stdout",
          "text": [
            "[{'name': 'Gfg', 'id': 3}, {'name': 'is', 'id': 8}]\n"
          ]
        }
      ],
      "source": [
        "test_list = [\"Gfg\", 3, \"is\", 8]\n",
        "key_list = [\"name\", \"id\"]\n",
        "result = []\n",
        "for i in range(0, len(test_list), 2):\n",
        "  result.append({key_list[0]: test_list[i], key_list[1]: test_list[i + 1]})\n",
        "print(result)"
      ]
    },
    {
      "cell_type": "markdown",
      "id": "c26b6e9f",
      "metadata": {
        "id": "c26b6e9f"
      },
      "source": [
        "\\\\**30-write a python program to count unique values inside a list using different ways"
      ]
    },
    {
      "cell_type": "code",
      "execution_count": null,
      "id": "72132667",
      "metadata": {
        "id": "72132667",
        "outputId": "a9451d28-c260-4ba0-aa43-6b3bb7e38a22",
        "colab": {
          "base_uri": "https://localhost:8080/"
        }
      },
      "outputs": [
        {
          "output_type": "stream",
          "name": "stdout",
          "text": [
            "1\n",
            "2\n",
            "4\n",
            "5\n"
          ]
        }
      ],
      "source": [
        "import numpy as np\n",
        "l=[1,2,3,3,4,5,6,6]\n",
        "for i in l:\n",
        "    if l.count(i)==1:\n",
        "            print(i)"
      ]
    },
    {
      "cell_type": "markdown",
      "id": "fed6677c",
      "metadata": {
        "id": "fed6677c"
      },
      "source": [
        "**31-write a python program Extract all elements with Frequency greater than K (Input : test_list = [4, 6, 4, 3, 3, 4, 3, 4, 3, 8], K = 3\n",
        "Output : [4, 3] )"
      ]
    },
    {
      "cell_type": "code",
      "execution_count": null,
      "id": "d81f3f9d",
      "metadata": {
        "id": "d81f3f9d"
      },
      "outputs": [],
      "source": [
        "# prompt: -write a python program Extract all elements with Frequency greater than K (Input : test_list = [4, 6, 4, 3, 3, 4, 3, 4, 3, 8], K = 3 Output : [4, 3] )\n",
        "\n",
        "def extract_elements(test_list, K):\n",
        "  result = []\n",
        "  for element in set(test_list):\n",
        "    if test_list.count(element) > K:\n",
        "      result.append(element)\n",
        "  return result\n",
        "\n",
        "test_list = [4, 6, 4, 3, 3, 4, 3, 4, 3, 8]\n",
        "K = 3\n",
        "print(extract_elements(test_list, K))"
      ]
    },
    {
      "cell_type": "markdown",
      "id": "caca5224",
      "metadata": {
        "id": "caca5224"
      },
      "source": [
        "**32-write a python program to find the Strongest Neighbour (Input: 1 2 2 3 4 5\n",
        "\n",
        "*   [List item](https:// [link text](https://))\n",
        "*   List item\n",
        "\n",
        "\n",
        "Output: 2 2 3 4 5)"
      ]
    },
    {
      "cell_type": "code",
      "execution_count": null,
      "id": "39fbd9b2",
      "metadata": {
        "id": "39fbd9b2"
      },
      "outputs": [],
      "source": [
        "def find_strongest_neighbour(arr):\n",
        "  result = []\n",
        "  for i in range(1, len(arr) - 1):\n",
        "    strongest = max(arr[i - 1], arr[i + 1])\n",
        "    result.append(strongest)\n",
        "  return result\n",
        "\n",
        "input_array = [1, 2, 2, 3, 4, 5]\n",
        "output_array = find_strongest_neighbour(input_array)\n",
        "print(\" \".join(map(str, output_array)))\n"
      ]
    },
    {
      "cell_type": "markdown",
      "id": "a9fa8baf",
      "metadata": {
        "id": "a9fa8baf"
      },
      "source": [
        "[link text](https://)**33-write a Python Program to print all Possible Combinations from the three Digits (Input: [1, 2, 3]\n",
        "Output:\n",
        "1 2 3 ##\n",
        "1 3 2 ##\n",
        "2 1 3 ##\n",
        "2 3 1 ##\n",
        "3 1 2 ##\n",
        "3 2 1)"
      ]
    },
    {
      "cell_type": "code",
      "execution_count": null,
      "id": "8c520a76",
      "metadata": {
        "id": "8c520a76",
        "colab": {
          "base_uri": "https://localhost:8080/"
        },
        "outputId": "d4ddd484-cb5b-414d-bd7e-1a14374334ae"
      },
      "outputs": [
        {
          "output_type": "stream",
          "name": "stdout",
          "text": [
            "1 2 3 ##\n",
            "1 3 2 ##\n",
            "2 1 3 ##\n",
            "2 3 1 ##\n",
            "3 1 2 ##\n",
            "3 2 1 ##\n"
          ]
        }
      ],
      "source": [
        "from itertools import permutations\n",
        "\n",
        "def print_combinations(digits):\n",
        "  for permutation in permutations(digits):\n",
        "    print(\" \".join(map(str, permutation)) + \" ##\")\n",
        "\n",
        "input_digits = [1, 2, 3]\n",
        "print_combinations(input_digits)\n"
      ]
    },
    {
      "cell_type": "markdown",
      "id": "5288bb89",
      "metadata": {
        "id": "5288bb89"
      },
      "source": [
        "**34-write a Python program to find all the Combinations in the list with the given condition (Input: test_list = [1,2,3]\n",
        "Output:\n",
        " [1], [1, 2], [1, 2, 3], [1, 3]\n",
        " [2], [2, 3], [3])"
      ]
    },
    {
      "cell_type": "code",
      "execution_count": null,
      "id": "59b89646",
      "metadata": {
        "id": "59b89646",
        "colab": {
          "base_uri": "https://localhost:8080/"
        },
        "outputId": "02961507-4c7d-42d1-dc2a-f456fa8d04c2"
      },
      "outputs": [
        {
          "output_type": "stream",
          "name": "stdout",
          "text": [
            "[1]\n",
            "[2]\n",
            "[1, 2]\n",
            "[3]\n",
            "[1, 3]\n",
            "[2, 3]\n",
            "[1, 2, 3]\n"
          ]
        }
      ],
      "source": [
        "def find_combinations(test_list):\n",
        "  result = []\n",
        "  for i in range(1, 2 ** len(test_list)):\n",
        "    combination = []\n",
        "    for j in range(len(test_list)):\n",
        "      if (i >> j) & 1:\n",
        "        combination.append(test_list[j])\n",
        "    result.append(combination)\n",
        "  return result\n",
        "\n",
        "test_list = [1, 2, 3]\n",
        "output = find_combinations(test_list)\n",
        "for combination in output:\n",
        "  print(combination)"
      ]
    },
    {
      "cell_type": "markdown",
      "id": "39973705",
      "metadata": {
        "id": "39973705"
      },
      "source": [
        "**35-write a Python program to get all unique combinations of two Lists (List_1 = [\"a\",\"b\"]\n",
        "List_2 = [1,2]\n",
        "Unique_combination = [[('a',1),('b',2)],[('a',2),('b',1)]] )"
      ]
    },
    {
      "cell_type": "code",
      "execution_count": null,
      "id": "8c4ba22b",
      "metadata": {
        "id": "8c4ba22b",
        "outputId": "1e90ba7d-dac3-4a47-8936-a89c5c075452",
        "colab": {
          "base_uri": "https://localhost:8080/"
        }
      },
      "outputs": [
        {
          "output_type": "stream",
          "name": "stdout",
          "text": [
            "[('a', 1), ('a', 2), ('b', 1), ('b', 2)]\n"
          ]
        }
      ],
      "source": [
        "l1=[\"a\",\"b\"]\n",
        "l2=[1,2]\n",
        "l3=[]\n",
        "for i in l1:\n",
        "    for j in l2:\n",
        "     l3.append((i,j))\n",
        "print(l3)"
      ]
    },
    {
      "cell_type": "markdown",
      "id": "25199af5",
      "metadata": {
        "id": "25199af5"
      },
      "source": [
        "**36-Remove all the occurrences of an element from a list in Python\n",
        "\n",
        "---\n",
        "\n",
        "(Input : 1 1 2 3 4 5 1 2 1\n",
        "\n",
        "**Output : 2 3 4 5 2)"
      ]
    },
    {
      "cell_type": "code",
      "execution_count": null,
      "id": "6dc4c2ba",
      "metadata": {
        "id": "6dc4c2ba",
        "outputId": "d69730c4-4d2a-42c8-d531-5d9f693699c5",
        "colab": {
          "base_uri": "https://localhost:8080/"
        }
      },
      "outputs": [
        {
          "output_type": "stream",
          "name": "stdout",
          "text": [
            "[1, 1, 2, 3, 4, 5, 1, 2, 1]\n"
          ]
        }
      ],
      "source": [
        "l=[1,1,2,3,4,5,1,2,1]\n",
        "for i in l:\n",
        "    if l.count(i) == max:\n",
        "        l.remove(i)\n",
        "print(l)"
      ]
    },
    {
      "cell_type": "markdown",
      "id": "bf1a3c93",
      "metadata": {
        "id": "bf1a3c93"
      },
      "source": [
        "**37-write a python program to Replace index elements with elements in Other List <br>\n",
        "(The original list 1 is : [‘Gfg’, ‘is’, ‘best’]<br>\n",
        "The original list 2 is : [0, 1, 2, 1, 0, 0, 0, 2, 1, 1, 2, 0] <br>\n",
        "The lists after index elements replacements is : [‘Gfg’, ‘is’, ‘best’, ‘is’, ‘Gfg’, ‘Gfg’, ‘Gfg’, ‘best’, ‘is’, ‘is’, ‘best’, ‘Gfg’])"
      ]
    },
    {
      "cell_type": "code",
      "execution_count": null,
      "id": "e3ab6802-d0c3-41ea-aa81-ce4023808f0c",
      "metadata": {
        "id": "e3ab6802-d0c3-41ea-aa81-ce4023808f0c",
        "outputId": "effd0668-237e-4ecb-fb41-5787fb5a9f0a",
        "colab": {
          "base_uri": "https://localhost:8080/"
        }
      },
      "outputs": [
        {
          "output_type": "stream",
          "name": "stdout",
          "text": [
            "['Gfg', 'is', 'best', 'is', 'Gfg', 'Gfg', 'Gfg', 'best', 'is', 'is', 'best', 'Gfg']\n"
          ]
        }
      ],
      "source": [
        "l1=['Gfg', 'is', 'best']\n",
        "l2=[0, 1, 2, 1, 0, 0, 0, 2, 1, 1, 2, 0]\n",
        "l3=[]\n",
        "for i in l2:\n",
        "    l3.append(l1[i])\n",
        "print(l3)"
      ]
    },
    {
      "cell_type": "code",
      "execution_count": null,
      "id": "fdd66a71",
      "metadata": {
        "id": "fdd66a71"
      },
      "outputs": [],
      "source": []
    },
    {
      "cell_type": "markdown",
      "id": "af0f56e8",
      "metadata": {
        "id": "af0f56e8"
      },
      "source": [
        "**38- write python program to Retain records with N occurrences of K(Input : test_list = [(4, 5, 5, 4), (5, 4, 3)], K = 5, N = 2 <br>\n",
        "Output : [(4, 5, 5, 4)] <br>\n",
        "Input : test_list = [(4, 5, 5, 4), (5, 4, 3)], K = 5, N = 3 <br>\n",
        "Output : [] )"
      ]
    },
    {
      "cell_type": "code",
      "execution_count": null,
      "id": "5b378aef-36e8-4a02-b14b-1197ffbd7df0",
      "metadata": {
        "id": "5b378aef-36e8-4a02-b14b-1197ffbd7df0",
        "colab": {
          "base_uri": "https://localhost:8080/"
        },
        "outputId": "295b7f45-472f-4c6b-f812-88c9441e0f07"
      },
      "outputs": [
        {
          "output_type": "stream",
          "name": "stdout",
          "text": [
            "[(4, 5, 5, 4)]\n",
            "[]\n"
          ]
        }
      ],
      "source": [
        "def retain_records(test_list, K, N):\n",
        "  result = []\n",
        "  for record in test_list:\n",
        "    if record.count(K) == N:\n",
        "      result.append(record)\n",
        "  return result\n",
        "\n",
        "# Test Case 1\n",
        "test_list = [(4, 5, 5, 4), (5, 4, 3)]\n",
        "K = 5\n",
        "N = 2\n",
        "print(retain_records(test_list, K, N))\n",
        "\n",
        "# Test Case 2\n",
        "test_list = [(4, 5, 5, 4), (5, 4, 3)]\n",
        "K = 5\n",
        "N = 3\n",
        "print(retain_records(test_list, K, N))"
      ]
    },
    {
      "cell_type": "markdown",
      "id": "de76f183",
      "metadata": {
        "id": "de76f183"
      },
      "source": [
        "**39-write a Python Program to Sort the list according to the column using lambda<br>\n",
        "array = [[1, 3, 3], [2, 1, 2], [3, 2, 1]]<br>\n",
        "Output :<br>\n",
        "Sorted array specific to column 0, [[1, 3, 3], [2, 1, 2], [3, 2, 1]]<br>\n",
        "Sorted array specific to column 1, [[2, 1, 2], [3, 2, 1], [1, 3, 3]]<br>\n",
        "Sorted array specific to column 2, [[3, 2, 1], [2, 1, 2], [1, 3, 3]]"
      ]
    },
    {
      "cell_type": "code",
      "execution_count": null,
      "id": "86e2ec37-1c78-47cb-b57f-3a9ddc7c553e",
      "metadata": {
        "id": "86e2ec37-1c78-47cb-b57f-3a9ddc7c553e",
        "outputId": "a1221d9b-8e72-47f2-94da-d53eeaa5f4be",
        "colab": {
          "base_uri": "https://localhost:8080/"
        }
      },
      "outputs": [
        {
          "output_type": "stream",
          "name": "stdout",
          "text": [
            "Sorted array specific to column 0, [[1, 3, 3], [2, 1, 2], [3, 2, 1]]\n",
            "Sorted array specific to column 1, [[2, 1, 2], [3, 2, 1], [1, 3, 3]]\n",
            "Sorted array specific to column 2, [[3, 2, 1], [2, 1, 2], [1, 3, 3]]\n"
          ]
        }
      ],
      "source": [
        "import numpy as np\n",
        "array = [[1, 3, 3], [2, 1, 2], [3, 2, 1]]\n",
        "\n",
        "# Sort by column 0\n",
        "sorted_col0 = sorted(array, key=lambda x: x[0])\n",
        "print(\"Sorted array specific to column 0,\", sorted_col0)\n",
        "\n",
        "# Sort by column 1\n",
        "sorted_col1 = sorted(array, key=lambda x: x[1])\n",
        "print(\"Sorted array specific to column 1,\", sorted_col1)\n",
        "\n",
        "# Sort by column 2\n",
        "sorted_col2 = sorted(array, key=lambda x: x[2])\n",
        "print(\"Sorted array specific to column 2,\", sorted_col2)\n",
        "\n"
      ]
    },
    {
      "cell_type": "markdown",
      "id": "cc17bbe5-03d1-4204-a6f5-75665af9bc72",
      "metadata": {
        "id": "cc17bbe5-03d1-4204-a6f5-75665af9bc72"
      },
      "source": [
        "**40- write a program to Sort Python Dictionaries by Key or Value <br>\n",
        "Input: <br>\n",
        "{'ravi': 10, 'rajnish': 9, 'sanjeev': 15, 'yash': 2, 'suraj': 32}\n",
        "<br>\n",
        "Output: <br>\n",
        "{'rajnish': 9, 'ravi': 10, 'sanjeev': 15, 'suraj': 32, 'yash': 2}"
      ]
    },
    {
      "cell_type": "code",
      "execution_count": null,
      "id": "a96db4a0",
      "metadata": {
        "id": "a96db4a0",
        "outputId": "be24a89f-3d42-417c-b1d3-8ffc8bca9c40",
        "colab": {
          "base_uri": "https://localhost:8080/"
        }
      },
      "outputs": [
        {
          "output_type": "stream",
          "name": "stdout",
          "text": [
            "Sorted by keys: {'rajnish': 9, 'ravi': 10, 'sanjeev': 15, 'suraj': 32, 'yash': 2}\n",
            "Sorted by values: {'yash': 2, 'rajnish': 9, 'ravi': 10, 'sanjeev': 15, 'suraj': 32}\n"
          ]
        }
      ],
      "source": [
        "my_dict = {'ravi': 10, 'rajnish': 9, 'sanjeev': 15, 'yash': 2, 'suraj': 32}\n",
        "\n",
        "# Sort by keys\n",
        "sorted_dict_keys = dict(sorted(my_dict.items()))\n",
        "print(\"Sorted by keys:\", sorted_dict_keys)\n",
        "\n",
        "# Sort by values\n",
        "sorted_dict_values = dict(sorted(my_dict.items(), key=lambda item: item[1]))\n",
        "print(\"Sorted by values:\", sorted_dict_values)\n"
      ]
    },
    {
      "cell_type": "markdown",
      "id": "ec63c23a",
      "metadata": {
        "id": "ec63c23a"
      },
      "source": [
        "**41-write python program to Remove keys with Values Greater than K ( Including mixed values ) <br>\n",
        "input : test_dict = {‘Gfg’ : 3, ‘is’ : 7, ‘best’ : 10, ‘for’ : 6, ‘geeks’ : ‘CS’},\n",
        "K = 7 <br>\n",
        "Output : {‘Gfg’ : 3, ‘for’ : 6, ‘geeks’ : ‘CS’}"
      ]
    },
    {
      "cell_type": "markdown",
      "source": [],
      "metadata": {
        "id": "nvGN6_KHh0OE"
      },
      "id": "nvGN6_KHh0OE"
    },
    {
      "cell_type": "code",
      "execution_count": null,
      "id": "e39c3a40",
      "metadata": {
        "id": "e39c3a40",
        "outputId": "1af4f013-2a43-4d19-9da2-c3e1934ea0ef",
        "colab": {
          "base_uri": "https://localhost:8080/"
        }
      },
      "outputs": [
        {
          "output_type": "stream",
          "name": "stdout",
          "text": [
            "{'Gfg': 3, 'for': 6, 'geeks': 'CS'}\n"
          ]
        }
      ],
      "source": [
        "my_dict = {'Gfg' : 3, 'is' : 7, 'best' : 10, 'for' : 6, 'geeks' : 'CS'}\n",
        "K = 7\n",
        "new_dict = {key: value for key, value in my_dict.items() if not isinstance(value, int) or value <K} # Keep non-integer values or integers less than or equal to K\n",
        "print(new_dict)"
      ]
    },
    {
      "cell_type": "markdown",
      "id": "f143f0fe",
      "metadata": {
        "id": "f143f0fe"
      },
      "source": [
        "**42-Write a Python program to concatenate the following dictionaries to create a new one\n",
        "\n",
        "Sample Dictionary :\n",
        "dic1={1:10, 2:20}\n",
        "dic2={3:30, 4:40}\n",
        "dic3={5:50,6:60}\n",
        "Expected Result : {1: 10, 2: 20, 3: 30, 4: 40, 5: 50, 6: 60}"
      ]
    },
    {
      "cell_type": "code",
      "execution_count": null,
      "id": "74ffdfea",
      "metadata": {
        "id": "74ffdfea",
        "colab": {
          "base_uri": "https://localhost:8080/"
        },
        "outputId": "853ee50b-83e9-4dac-97dd-d15a85e11ef5"
      },
      "outputs": [
        {
          "output_type": "stream",
          "name": "stdout",
          "text": [
            "{1: 10, 2: 20, 3: 30, 4: 40, 5: 50, 6: 60}\n"
          ]
        }
      ],
      "source": [
        "dic1={1:10, 2:20}\n",
        "dic2={3:30, 4:40}\n",
        "dic3={5:50,6:60}\n",
        "dic4 = {}\n",
        "for d in (dic1, dic2, dic3):\n",
        "    dic4.update(d)\n",
        "print(dic4)\n"
      ]
    },
    {
      "cell_type": "markdown",
      "id": "fb04c93c",
      "metadata": {
        "id": "fb04c93c"
      },
      "source": [
        "**43-Write a Python program to iterate over dictionaries using for loops"
      ]
    },
    {
      "cell_type": "code",
      "execution_count": null,
      "id": "6aebc470",
      "metadata": {
        "id": "6aebc470"
      },
      "outputs": [],
      "source": [
        "my_dict = {'ravi': 10, 'rajnish': 9, 'sanjeev': 15, 'yash': 2, 'suraj': 32}\n",
        "\n",
        "# Iterate over keys\n",
        "for key in my_dict:\n",
        "  print(key)\n",
        "\n",
        "# Iterate over values\n",
        "for value in my_dict.values():\n",
        "  print(value)\n",
        "\n",
        "# Iterate over key-value pairs\n",
        "for key, value in my_dict.items():\n",
        "  print(key, value)\n"
      ]
    },
    {
      "cell_type": "markdown",
      "id": "5f491a9d",
      "metadata": {
        "id": "5f491a9d"
      },
      "source": [
        "**44- Write a Python script to merge two Python dictionaries"
      ]
    },
    {
      "cell_type": "code",
      "execution_count": null,
      "id": "b8a14028",
      "metadata": {
        "id": "b8a14028"
      },
      "outputs": [],
      "source": [
        "dict1 = {'a': 1, 'b': 2}\n",
        "dict2 = {'c': 3, 'd': 4}\n",
        "\n",
        "# Method 1\n",
        "dict1.update(dict2)\n",
        "print(dict1)\n",
        "\n",
        "# Method 2\n",
        "merged_dict = {**dict1, **dict2}\n",
        "print(merged_dict)\n"
      ]
    },
    {
      "cell_type": "markdown",
      "id": "216fc72d",
      "metadata": {
        "id": "216fc72d"
      },
      "source": [
        "**45-Write a Python program to get the maximum and minimum values of a dictionary values"
      ]
    },
    {
      "cell_type": "code",
      "execution_count": null,
      "id": "d6883f5f",
      "metadata": {
        "id": "d6883f5f"
      },
      "outputs": [],
      "source": [
        "\n",
        "my_dict = {'a': 10, 'b': 2, 'c': 5, 'd': 12}\n",
        "\n",
        "\n",
        "max_value = max(my_dict.values())\n",
        "print(\"Maximum value:\", max_value)\n",
        "\n",
        "\n",
        "min_value = min(my_dict.values())\n",
        "print(\"Minimum value:\", min_value)\n"
      ]
    },
    {
      "cell_type": "markdown",
      "id": "b6a53011",
      "metadata": {
        "id": "b6a53011"
      },
      "source": [
        "**46- Write a Python program to drop empty items from a given dictionary.<br>\n",
        "Original Dictionary:<br>\n",
        "{'c1': 'Red', 'c2': 'Green', 'c3': None}<br>\n",
        "New Dictionary after dropping empty items:<br>\n",
        "{'c1': 'Red', 'c2': 'Green'}"
      ]
    },
    {
      "cell_type": "code",
      "execution_count": null,
      "id": "b5c6fecf",
      "metadata": {
        "id": "b5c6fecf",
        "colab": {
          "base_uri": "https://localhost:8080/"
        },
        "outputId": "a2416d85-02bf-44df-c1bb-858c8fc41aeb"
      },
      "outputs": [
        {
          "output_type": "stream",
          "name": "stdout",
          "text": [
            "New Dictionary after dropping empty items: {'c1': 'Red', 'c2': 'Green'}\n"
          ]
        }
      ],
      "source": [
        "original_dict = {'c1': 'Red', 'c2': 'Green', 'c3': None}\n",
        "new_dict = {key: value for key, value in original_dict.items() if value is not None}\n",
        "print(\"New Dictionary after dropping empty items:\", new_dict)\n"
      ]
    },
    {
      "cell_type": "markdown",
      "id": "46d718c7",
      "metadata": {
        "id": "46d718c7"
      },
      "source": [
        "**47-Write a Python program to create a tuple of numbers and print one item"
      ]
    },
    {
      "cell_type": "code",
      "execution_count": null,
      "id": "13216ff5",
      "metadata": {
        "id": "13216ff5",
        "colab": {
          "base_uri": "https://localhost:8080/"
        },
        "outputId": "70611905-d127-4cf6-babb-5845d066800a"
      },
      "outputs": [
        {
          "output_type": "stream",
          "name": "stdout",
          "text": [
            "1\n"
          ]
        }
      ],
      "source": [
        "tup=(1,2,3,4,5)\n",
        "print(tup[0])"
      ]
    },
    {
      "cell_type": "markdown",
      "id": "2be5b56b",
      "metadata": {
        "id": "2be5b56b"
      },
      "source": [
        "**48-Write a Python program to unpack a tuple into several variables"
      ]
    },
    {
      "cell_type": "code",
      "execution_count": null,
      "id": "595f44be",
      "metadata": {
        "id": "595f44be",
        "colab": {
          "base_uri": "https://localhost:8080/"
        },
        "outputId": "042ddc72-dae6-494e-a1cb-ee20559424ec"
      },
      "outputs": [
        {
          "output_type": "stream",
          "name": "stdout",
          "text": [
            "1 2 3 4 5\n"
          ]
        }
      ],
      "source": [
        "tup=(1,2,3,4,5)\n",
        "a,b,c,d,e=tup\n",
        "print(a,b,c,d,e)"
      ]
    },
    {
      "cell_type": "markdown",
      "id": "392388a7",
      "metadata": {
        "id": "392388a7"
      },
      "source": [
        "**49-Write a Python program to add an item to a tuple"
      ]
    },
    {
      "cell_type": "code",
      "execution_count": null,
      "id": "54cc092e",
      "metadata": {
        "id": "54cc092e",
        "colab": {
          "base_uri": "https://localhost:8080/"
        },
        "outputId": "da7f137a-c260-478c-abaa-e4c8e81ad3ef"
      },
      "outputs": [
        {
          "output_type": "stream",
          "name": "stdout",
          "text": [
            "(1, 2, 3, 4, 5, 6)\n"
          ]
        }
      ],
      "source": [
        "tup=(1,2,3,4,5)\n",
        "tup=list(tup)\n",
        "tup.append(6)\n",
        "tup=tuple(tup)\n",
        "print(tup)"
      ]
    },
    {
      "cell_type": "markdown",
      "id": "3e8fd124",
      "metadata": {
        "id": "3e8fd124"
      },
      "source": [
        "**50-Write a Python program to convert a tuple to a string"
      ]
    },
    {
      "cell_type": "code",
      "execution_count": null,
      "id": "92a71ddc",
      "metadata": {
        "id": "92a71ddc",
        "colab": {
          "base_uri": "https://localhost:8080/"
        },
        "outputId": "0e7bb899-c086-4959-fc92-8a450fafa5a4"
      },
      "outputs": [
        {
          "output_type": "stream",
          "name": "stdout",
          "text": [
            "abc\n"
          ]
        }
      ],
      "source": [
        "tup = ('a', 'b', 'c')\n",
        "str = ''.join(tup)\n",
        "print(str)"
      ]
    },
    {
      "cell_type": "markdown",
      "id": "f4f64ef4",
      "metadata": {
        "id": "f4f64ef4"
      },
      "source": [
        "**51-Write a Python program to convert a list to a tuple"
      ]
    },
    {
      "cell_type": "code",
      "execution_count": null,
      "id": "210d56d3",
      "metadata": {
        "id": "210d56d3",
        "colab": {
          "base_uri": "https://localhost:8080/"
        },
        "outputId": "d70b936d-20d9-4c32-b393-7a09ca39c131"
      },
      "outputs": [
        {
          "output_type": "stream",
          "name": "stdout",
          "text": [
            "(1, 2, 3, 4, 5)\n"
          ]
        }
      ],
      "source": [
        "l1=[1,2,3,4,5]\n",
        "tup=tuple(l1)\n",
        "print(tup)"
      ]
    },
    {
      "cell_type": "markdown",
      "id": "b1e00ef7",
      "metadata": {
        "id": "b1e00ef7"
      },
      "source": [
        "**52-Write a Python program to reverse a tuple"
      ]
    },
    {
      "cell_type": "code",
      "execution_count": null,
      "id": "f45bfdc7",
      "metadata": {
        "id": "f45bfdc7",
        "colab": {
          "base_uri": "https://localhost:8080/"
        },
        "outputId": "7ab829c3-88e6-4ee9-910d-e5b7889f7f82"
      },
      "outputs": [
        {
          "output_type": "stream",
          "name": "stdout",
          "text": [
            "(5, 4, 3, 2, 1)\n"
          ]
        }
      ],
      "source": [
        "tup=(1,2,3,4,5)\n",
        "tup=tup[::-1]\n",
        "print(tup)"
      ]
    },
    {
      "cell_type": "markdown",
      "id": "3cd347d1",
      "metadata": {
        "id": "3cd347d1"
      },
      "source": [
        "**53-Write a Python program to replace the last value of tuples in a list.<br>\n",
        "Sample list: [(10, 20, 40), (40, 50, 60), (70, 80, 90)] <br>\n",
        "Expected Output: [(10, 20, 100), (40, 50, 100), (70, 80, 100)]"
      ]
    },
    {
      "cell_type": "code",
      "execution_count": null,
      "id": "3c4a2a4c",
      "metadata": {
        "id": "3c4a2a4c",
        "colab": {
          "base_uri": "https://localhost:8080/"
        },
        "outputId": "1c3b927a-cd48-49f7-e3ae-0303d7bd3dfa"
      },
      "outputs": [
        {
          "output_type": "stream",
          "name": "stdout",
          "text": [
            "[(10, 20, 100), (40, 50, 100), (70, 80, 100)]\n"
          ]
        }
      ],
      "source": [
        "l1=[(10, 20, 40), (40, 50, 60), (70, 80, 90)]\n",
        "for i in range(len(l1)):\n",
        "    l1[i]=list(l1[i])\n",
        "    l1[i][-1]=100\n",
        "    l1[i]=tuple(l1[i])\n",
        "print(l1)"
      ]
    },
    {
      "cell_type": "markdown",
      "id": "76bb7b39",
      "metadata": {
        "id": "76bb7b39"
      },
      "source": [
        "**54-Write a Python program to convert a given string list to a tuple\n",
        "Original string: python 3.0 <br>\n",
        "<class 'str'> <br>\n",
        "Convert the said string to a tuple: <br>\n",
        "('p', 'y', 't', 'h', 'o', 'n', '3', '.', '0')"
      ]
    },
    {
      "cell_type": "code",
      "execution_count": null,
      "id": "51951937",
      "metadata": {
        "id": "51951937",
        "colab": {
          "base_uri": "https://localhost:8080/"
        },
        "outputId": "6771407c-0f2f-449b-dace-77da2a785fa0"
      },
      "outputs": [
        {
          "output_type": "stream",
          "name": "stdout",
          "text": [
            "python3.0\n",
            "('p', 'y', 't', 'h', 'o', 'n', '3', '.', '0')\n"
          ]
        }
      ],
      "source": [
        "p=input()\n",
        "tup=tuple(p)\n",
        "print(tup)"
      ]
    },
    {
      "cell_type": "markdown",
      "id": "5a1d5d97",
      "metadata": {
        "id": "5a1d5d97"
      },
      "source": [
        "**55-Write a Python program to calculate the average value of the numbers in a given tuple of tuples"
      ]
    },
    {
      "cell_type": "code",
      "execution_count": null,
      "id": "834e7992",
      "metadata": {
        "id": "834e7992",
        "colab": {
          "base_uri": "https://localhost:8080/"
        },
        "outputId": "b30496d8-ef63-4546-9c12-edce24384d88"
      },
      "outputs": [
        {
          "output_type": "stream",
          "name": "stdout",
          "text": [
            "(2.5, 1.5, 4.0)\n"
          ]
        }
      ],
      "source": [
        "import numpy as np\n",
        "tup = ((2,3),(1,2),(2,6))\n",
        "tup1 = []\n",
        "\n",
        "for i in tup:\n",
        "    avg = np.sum(i) / len(i)\n",
        "    tup1.append(avg)\n",
        "\n",
        "tup1 = tuple(tup1)\n",
        "print(tup1)"
      ]
    },
    {
      "cell_type": "markdown",
      "id": "51edab9c",
      "metadata": {
        "id": "51edab9c"
      },
      "source": [
        "**56-Write a Python program to add member(s) to a set.\n",
        "\n",
        "> Add blockquote\n",
        "\n"
      ]
    },
    {
      "cell_type": "code",
      "execution_count": null,
      "id": "2b65df79",
      "metadata": {
        "id": "2b65df79",
        "colab": {
          "base_uri": "https://localhost:8080/"
        },
        "outputId": "c54c4c49-e846-4b91-926c-7b273b50c772"
      },
      "outputs": [
        {
          "output_type": "stream",
          "name": "stdout",
          "text": [
            "{1, 2, 3, 4}\n",
            "{1, 2, 3, 4, 5, 6, 7}\n"
          ]
        }
      ],
      "source": [
        "my_set = {1, 2, 3}\n",
        "my_set.add(4)\n",
        "print(my_set)\n",
        "my_set.update([5, 6, 7])\n",
        "print(my_set)"
      ]
    },
    {
      "cell_type": "code",
      "execution_count": null,
      "id": "866bab28",
      "metadata": {
        "id": "866bab28",
        "colab": {
          "base_uri": "https://localhost:8080/"
        },
        "outputId": "897275dd-c27d-4d01-bb0d-954b6b8bda38"
      },
      "outputs": [
        {
          "output_type": "stream",
          "name": "stdout",
          "text": [
            "3 has been removed from the set.\n",
            "{1, 2, 4, 5}\n"
          ]
        }
      ],
      "source": [
        "my_set = {1, 2, 3, 4, 5}\n",
        "item_to_remove = 3\n",
        "if item_to_remove in my_set:\n",
        "    my_set.remove(item_to_remove)\n",
        "    print(f\"{item_to_remove} has been removed from the set.\")\n",
        "else:\n",
        "    print(f\"{item_to_remove} is not present in the set.\")\n",
        "print(my_set)"
      ]
    },
    {
      "cell_type": "markdown",
      "id": "2b7cfed1",
      "metadata": {
        "id": "2b7cfed1"
      },
      "source": [
        "**58-Write a Python program to create an intersection,union,difference and symmetric difference of sets"
      ]
    },
    {
      "cell_type": "code",
      "execution_count": null,
      "id": "7f94b7fe",
      "metadata": {
        "id": "7f94b7fe",
        "colab": {
          "base_uri": "https://localhost:8080/"
        },
        "outputId": "2a1f1d6c-2221-4afc-d338-68e873285ca1"
      },
      "outputs": [
        {
          "output_type": "stream",
          "name": "stdout",
          "text": [
            "Intersection: {4, 5}\n",
            "Union: {1, 2, 3, 4, 5, 6, 7, 8}\n",
            "Difference: {1, 2, 3}\n",
            "Symmetric Difference: {1, 2, 3, 6, 7, 8}\n"
          ]
        }
      ],
      "source": [
        "my_set1 = {1, 2, 3, 4, 5}\n",
        "my_set2 = {4, 5, 6, 7, 8}\n",
        "if my_set1.intersection(my_set2):\n",
        "    print(\"Intersection:\", my_set1.intersection(my_set2))\n",
        "else:\n",
        "    print(\"No intersection found.\")\n",
        "\n",
        "if my_set1.union(my_set2):\n",
        "    print(\"Union:\", my_set1.union(my_set2))\n",
        "else:\n",
        "    print(\"No union found.\")\n",
        "\n",
        "if my_set1.difference(my_set2):\n",
        "    print(\"Difference:\", my_set1.difference(my_set2))\n",
        "else:\n",
        "    print(\"No difference found.\")\n",
        "\n",
        "if my_set1.symmetric_difference(my_set2):\n",
        "    print(\"Symmetric Difference:\", my_set1.symmetric_difference(my_set2))\n",
        "else:\n",
        "    print(\"No symmetric difference found.\")\n"
      ]
    },
    {
      "cell_type": "markdown",
      "id": "b94931e2",
      "metadata": {
        "id": "b94931e2"
      },
      "source": [
        "**59-Write a Python program to find the maximum and minimum values in a set"
      ]
    },
    {
      "cell_type": "code",
      "execution_count": null,
      "id": "203f9600",
      "metadata": {
        "id": "203f9600",
        "colab": {
          "base_uri": "https://localhost:8080/"
        },
        "outputId": "56fd7260-25ac-4c76-afc3-9f1c4c46018b"
      },
      "outputs": [
        {
          "output_type": "stream",
          "name": "stdout",
          "text": [
            "Maximum value: 5\n",
            "Minimum value: 1\n"
          ]
        }
      ],
      "source": [
        "my_set = {1, 2, 3, 4, 5}\n",
        "max_value = max(my_set)\n",
        "min_value = min(my_set)\n",
        "print(\"Maximum value:\", max_value)\n",
        "print(\"Minimum value:\", min_value)"
      ]
    },
    {
      "cell_type": "code",
      "execution_count": null,
      "id": "c2d94e1f",
      "metadata": {
        "id": "c2d94e1f",
        "colab": {
          "base_uri": "https://localhost:8080/"
        },
        "outputId": "bd98311c-ee05-4647-9bf9-b2524595e391"
      },
      "outputs": [
        {
          "output_type": "stream",
          "name": "stdout",
          "text": [
            "Enter a list of numbers separated by spaces: 1 2 3  4 5 6 7  8\n",
            "Enter the target sum: 8\n",
            "Pairs with sum equal to 8 are: [(1, 7), (2, 6), (3, 5)]\n"
          ]
        }
      ],
      "source": [
        "# prompt: *60- Write a Python program that finds all pairs of elements in a list whose sum is equal to a given value. give me an acces to enter the target sum\n",
        "\n",
        "def find_pairs(arr, target_sum):\n",
        "  pairs = []\n",
        "  for i in range(len(arr)):\n",
        "    for j in range(i + 1, len(arr)):\n",
        "      if arr[i] + arr[j] == target_sum:\n",
        "        pairs.append((arr[i], arr[j]))\n",
        "  return pairs\n",
        "\n",
        "\n",
        "arr_str = input(\"Enter a list of numbers separated by spaces: \")\n",
        "arr = [int(x) for x in arr_str.split()]\n",
        "target_sum = int(input(\"Enter the target sum: \"))\n",
        "\n",
        "result = find_pairs(arr, target_sum)\n",
        "if result:\n",
        "  print(\"Pairs with sum equal to\", target_sum, \"are:\", result)\n",
        "else:\n",
        "  print(\"No pairs found with sum equal to\", target_sum)\n"
      ]
    }
  ],
  "metadata": {
    "kernelspec": {
      "display_name": "Python 3 (ipykernel)",
      "language": "python",
      "name": "python3"
    },
    "language_info": {
      "codemirror_mode": {
        "name": "ipython",
        "version": 3
      },
      "file_extension": ".py",
      "mimetype": "text/x-python",
      "name": "python",
      "nbconvert_exporter": "python",
      "pygments_lexer": "ipython3",
      "version": "3.12.5"
    },
    "colab": {
      "provenance": []
    }
  },
  "nbformat": 4,
  "nbformat_minor": 5
}